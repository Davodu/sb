{
 "cells": [
  {
   "cell_type": "markdown",
   "metadata": {},
   "source": [
    "## Dataset Direct Download Urls\n",
    "\n",
    "- [Deep fashion introduction paper](https://www.cv-foundation.org/openaccess/content_cvpr_2016/papers/Liu_DeepFashion_Powering_Robust_CVPR_2016_paper.pdf)\n"
   ]
  },
  {
   "cell_type": "code",
   "execution_count": null,
   "metadata": {},
   "outputs": [],
   "source": [
    "'''\n",
    "References\n",
    "\n",
    "- https://github.com/open-mmlab/mmfashion/tree/ca8d039fcfa3f88f68f0c6ce218da7290b03d433\n",
    "- https://blog.floydhub.com/similar-fashion-images/\n",
    "- https://github.com/open-mmlab/mmfashion/blob/master/docs/DATA_PREPARATION.md\n",
    "- https://github.com/wenxinxu/deep-shopping\n",
    "\n",
    "Post of interest.\n",
    "- https://towardsdatascience.com/implementing-a-resnet-model-from-scratch-971be7193718\n",
    "- https://github.com/deep-diver/CIFAR10-img-classification-tensorflow\n",
    "'''\n",
    "print()"
   ]
  },
  {
   "cell_type": "markdown",
   "metadata": {},
   "source": [
    "## Step 1 - Dataset Utilities and Preprocessing"
   ]
  },
  {
   "cell_type": "code",
   "execution_count": 2,
   "metadata": {},
   "outputs": [
    {
     "name": "stdout",
     "output_type": "stream",
     "text": [
      "WARNING:tensorflow:From /usr/local/lib/python3.5/dist-packages/tensorflow_core/python/compat/v2_compat.py:88: disable_resource_variables (from tensorflow.python.ops.variable_scope) is deprecated and will be removed in a future version.\n",
      "Instructions for updating:\n",
      "non-resource variables are not supported in the long term\n"
     ]
    }
   ],
   "source": [
    "import numpy as np\n",
    "import os\n",
    "import cv2\n",
    "import matplotlib.pyplot as plt\n",
    "import pandas as pd\n",
    "import pickle\n",
    "import re\n",
    "\n",
    "#import tensorflow as tf\n",
    "import tensorflow.compat.v1 as tf\n",
    "tf.disable_v2_behavior() \n",
    "\n",
    "\n",
    "from keras.layers import Input, Lambda, Dense, Flatten\n",
    "from keras.models import Model\n",
    "from keras.applications.vgg16 import VGG16\n",
    "from keras.applications.vgg16 import preprocess_input, decode_predictions\n",
    "\n",
    "\n",
    "from tqdm import tqdm_notebook\n",
    "from tqdm import tqdm\n",
    "from scipy.spatial.distance import hamming, cosine\n",
    "from timeit import default_timer as timer\n",
    "from sklearn.utils import shuffle\n",
    "from sklearn.model_selection import train_test_split\n",
    "%matplotlib inline"
   ]
  },
  {
   "cell_type": "code",
   "execution_count": 21,
   "metadata": {},
   "outputs": [],
   "source": [
    "def get_top_categories_list():\n",
    "    list_category_cloth = 'dataset/Anno/list_category_cloth.txt'\n",
    "    '''\n",
    "    Return list containing top category from list_category_cloth.txt\n",
    "    '''\n",
    "    with open(list_category_cloth, 'r') as f:\n",
    "        top_categories = f.readlines()[2:]\n",
    "    return [line.split(' ')[0] for line in top_categories if len(line)>0 and line[-2]=='1']"
   ]
  },
  {
   "cell_type": "code",
   "execution_count": 22,
   "metadata": {},
   "outputs": [],
   "source": [
    "categories_for_tops = get_top_categories_list()\n",
    "\n",
    "#select desired categories from top\n",
    "categories_for_tops = ['Anorak',\n",
    " 'Blouse',\n",
    " 'Bomber',\n",
    " 'Cardigan',\n",
    " 'Jacket',\n",
    " 'Parka',\n",
    " 'Sweater',\n",
    " 'Tank',\n",
    " 'Tee']"
   ]
  },
  {
   "cell_type": "code",
   "execution_count": 23,
   "metadata": {},
   "outputs": [],
   "source": [
    "PREFIX = 'dataset/modified_dataset'\n",
    "\n",
    "def split_img():\n",
    "    '''\n",
    "    Creates list_eval_partition for items which are tops and saves them in dataset/modified_dataset/<evaluation_status> directory\n",
    "    where evaluation_status = train | test | val\n",
    "    '''    \n",
    "    rf = open('dataset/Eval/list_eval_partition.txt').readlines()\n",
    "    wf1 = open(os.path.join(PREFIX, 'train', 'list_eval_partition_train.txt'), 'w')\n",
    "    wf2 = open(os.path.join(PREFIX, 'test', 'list_eval_partition_test.txt'), 'w')\n",
    "    wf3 = open(os.path.join(PREFIX, 'val', 'list_eval_partition_val.txt'), 'w')\n",
    "\n",
    "    for i, line in enumerate(rf[2:]):\n",
    "        aline = line.strip('\\n').split()\n",
    "        imgname, prefix = aline[0], aline[1]\n",
    "        \n",
    "        item_is_top = False\n",
    "        category = imgname.split('/')[1].split('_')[-1]\n",
    "        if category in categories_for_tops:\n",
    "            item_is_top = True\n",
    "        \n",
    "        if item_is_top:\n",
    "            if prefix == 'train':\n",
    "                wf1.write('%s\\n' % imgname)\n",
    "            elif prefix == 'test':\n",
    "                wf2.write('%s\\n' % imgname)\n",
    "            else:\n",
    "                wf3.write('%s\\n' % imgname)\n",
    "\n",
    "    wf1.close()\n",
    "    wf2.close()\n",
    "    wf3.close()\n",
    "\n",
    "def split_attribute(train_img, test_img, val_img):\n",
    "    \n",
    "    rf = open('dataset/Anno/list_attr_img.txt').readlines()\n",
    "    wf1 = open(os.path.join(PREFIX,'train', 'train_attr.txt'), 'w')\n",
    "    wf2 = open(os.path.join(PREFIX,'test', 'test_attr.txt'), 'w')\n",
    "    wf3 = open(os.path.join(PREFIX,'val', 'val_attr.txt'), 'w')\n",
    "\n",
    "    def sort_attr():\n",
    "        d = dict()\n",
    "        for i, line in enumerate(rf[2:]):\n",
    "            aline = line.strip('\\n').split()\n",
    "            imgname = aline[0]\n",
    "            d[imgname] = []\n",
    "            attrs = aline[1:]\n",
    "            for ai, a in enumerate(attrs):\n",
    "                if int(a) <= 0:\n",
    "                    d[imgname].append(0)\n",
    "                else:\n",
    "                    d[imgname].append(int(a))\n",
    "        return d\n",
    "\n",
    "    attributes = sort_attr()\n",
    "    #print(attributes)\n",
    "\n",
    "    def write_attr(imgs, wf):\n",
    "        for i, line in enumerate(imgs):\n",
    "            imgname = line.strip('\\n')\n",
    "            attr = attributes[imgname]\n",
    "            for a in attr:\n",
    "                wf.write('%s ' % str(a))\n",
    "            wf.write('\\n')\n",
    "        wf.close()\n",
    "\n",
    "    write_attr(train_img, wf1)\n",
    "    write_attr(test_img, wf2)\n",
    "    write_attr(val_img, wf3)\n",
    "\n",
    "def split_category(train_img, test_img, val_img):\n",
    "    wf1 = open(os.path.join(PREFIX,'train', 'train_cate.txt'), 'w')\n",
    "    wf2 = open(os.path.join(PREFIX,'test', 'test_cate.txt'), 'w')\n",
    "    wf3 = open(os.path.join(PREFIX,'val', 'val_cate.txt'), 'w')\n",
    "\n",
    "    def gather_cate():\n",
    "        d = dict()\n",
    "        rf = open('dataset/Anno/list_category_img.txt').readlines()\n",
    "        for i, line in enumerate(rf[2:]):\n",
    "            aline = line.strip('\\n').split()\n",
    "            imgname, cate = aline[0], aline[1]\n",
    "            d[imgname] = cate\n",
    "\n",
    "        return d\n",
    "\n",
    "    img2cate = gather_cate()\n",
    "\n",
    "    def write_cate(imgs, wf):\n",
    "        # cate_ids = []\n",
    "        for i, line in enumerate(imgs):\n",
    "            imgname = line.strip('\\n').split()[0]\n",
    "            cate_id = int(img2cate[imgname])\n",
    "            # cate_ids.append(cate_id)\n",
    "            wf.write('%d\\n' % cate_id)\n",
    "\n",
    "    write_cate(train_img, wf1)\n",
    "    write_cate(test_img, wf2)\n",
    "    write_cate(val_img, wf3)\n",
    "\n",
    "\n",
    "def split_bbox(train_img, test_img, val_img):\n",
    "    rf = open('dataset/Anno/list_bbox.txt').readlines()\n",
    "    wf1 = open(os.path.join(PREFIX,'train', 'train_bbox.txt'), 'w')\n",
    "    wf2 = open(os.path.join(PREFIX,'test', 'test_bbox.txt'), 'w')\n",
    "    wf3 = open(os.path.join(PREFIX,'val', 'val_bbox.txt'), 'w')\n",
    "\n",
    "    def sort_bbox():\n",
    "        d = dict()\n",
    "        for i, line in enumerate(rf[2:]):\n",
    "            aline = line.strip('\\n').split()\n",
    "            imgname = aline[0]\n",
    "            d[imgname] = []\n",
    "            bbox = aline[1:]\n",
    "            for bi, b in enumerate(bbox):\n",
    "                d[imgname].append(int(b))\n",
    "        return d\n",
    "\n",
    "    bboxes = sort_bbox()\n",
    "\n",
    "    def write_bbox(imgs, wf):\n",
    "        for i, line in enumerate(imgs):\n",
    "            imgname = line.strip('\\n')\n",
    "            bbox = bboxes[imgname]\n",
    "            for b in bbox:\n",
    "                wf.write('%s ' % str(b))\n",
    "            wf.write('\\n')\n",
    "        wf.close()\n",
    "\n",
    "    write_bbox(train_img, wf1)\n",
    "    write_bbox(test_img, wf2)\n",
    "    write_bbox(val_img, wf3)\n",
    "\n",
    "def split_lms(train_img, test_img, val_img):\n",
    "    rf = open('dataset/Anno/list_landmarks.txt').readlines()\n",
    "    wf1 = open(os.path.join(PREFIX, 'train', 'train_landmarks.txt'), 'w')\n",
    "    wf2 = open(os.path.join(PREFIX,'test', 'test_landmarks.txt'), 'w')\n",
    "    wf3 = open(os.path.join(PREFIX, 'val', 'val_landmarks.txt'), 'w')\n",
    "\n",
    "    def sort_lm():\n",
    "        d = dict()\n",
    "        for i, line in enumerate(rf[2:]):\n",
    "            aline = line.strip('\\n').split()\n",
    "            imgname = aline[0]\n",
    "            d[imgname] = []\n",
    "            lms = aline[2:]\n",
    "            for li, lm in enumerate(lms):\n",
    "                if li % 3 == 0:\n",
    "                    continue\n",
    "                else:\n",
    "                    d[imgname].append(int(lm))\n",
    "        return d\n",
    "\n",
    "    landmarks = sort_lm()\n",
    "\n",
    "    def write_lm(imgs, wf):\n",
    "        for i, line in enumerate(imgs):\n",
    "            imgname = line.strip('\\n')\n",
    "            lm = landmarks[imgname]\n",
    "            for a in lm:\n",
    "                wf.write('%s ' % str(a))\n",
    "\n",
    "            num_lm = len(lm)\n",
    "            if num_lm < 16:\n",
    "                for cnt in range(16 - num_lm):\n",
    "                    wf.write('0 ')\n",
    "            wf.write('\\n')\n",
    "        wf.close()\n",
    "\n",
    "    write_lm(train_img, wf1)\n",
    "    write_lm(test_img, wf2)\n",
    "    write_lm(val_img, wf3)\n",
    "def split_category(train_img, test_img, val_img):\n",
    "    wf1 = open(os.path.join(PREFIX,'train', 'train_cate.txt'), 'w')\n",
    "    wf2 = open(os.path.join(PREFIX,'test', 'test_cate.txt'), 'w')\n",
    "    wf3 = open(os.path.join(PREFIX,'val', 'val_cate.txt'), 'w')\n",
    "\n",
    "    def gather_cate():\n",
    "        d = dict()\n",
    "        rf = open('dataset/Anno/list_category_img.txt').readlines()\n",
    "        for i, line in enumerate(rf[2:]):\n",
    "            aline = line.strip('\\n').split()\n",
    "            imgname, cate = aline[0], aline[1]\n",
    "            d[imgname] = cate\n",
    "\n",
    "        return d\n",
    "\n",
    "    img2cate = gather_cate()\n",
    "\n",
    "    def write_cate(imgs, wf):\n",
    "        # cate_ids = []\n",
    "        for i, line in enumerate(imgs):\n",
    "            imgname = line.strip('\\n').split()[0]\n",
    "            cate_id = int(img2cate[imgname])\n",
    "            # cate_ids.append(cate_id)\n",
    "            wf.write('%d\\n' % cate_id)\n",
    "\n",
    "    write_cate(train_img, wf1)\n",
    "    write_cate(test_img, wf2)\n",
    "    write_cate(val_img, wf3)\n",
    "\n",
    "def remap_categories(train_eval_file, test_eval_file, val_eval_file):\n",
    "    '''\n",
    "    Update the category file from format <old category> to format <old category> <new category>\n",
    "    '''\n",
    "    new_category_map = {'1':'0','4':'0','11':'0','13':'0', #Anorak, bomber, jacket,parka\n",
    "                        '6':'1', #Cardigan\n",
    "                        '16':'2',#sweater\n",
    "                        '17':'3',#Tank\n",
    "                        '3':'4',#blouse\n",
    "                        '18':'5'#Tee\n",
    "                       }\n",
    "    #{'8', '10', '9', '7', '15', '12', '20', '4', '14', '5', '19'}\n",
    "    #{ Halter, hoodie, Henley, Flannel, Poncho, Jersey, Turtleneck, Bomber, Peacoat, Button-Down, Top}\n",
    "    \n",
    "    rf1 = open(train_eval_file).readlines()\n",
    "    wf1 = open(os.path.join(PREFIX,'train', 'new_train_cate.txt'), 'w')\n",
    "    \n",
    "    rf2 = open(test_eval_file).readlines()\n",
    "    wf2 = open(os.path.join(PREFIX,'test', 'new_test_cate.txt'), 'w')\n",
    "    \n",
    "    rf3 = open(val_eval_file).readlines()\n",
    "    wf3 = open(os.path.join(PREFIX,'val', 'new_val_cate.txt'), 'w')\n",
    "    \n",
    "    def append_new_category(rf,wf):\n",
    "        for line in rf:\n",
    "            aline = line.strip('\\n')\n",
    "            try:\n",
    "                new_cate = new_category_map[aline]\n",
    "                line = line.replace('\\n', ' '+str(new_cate))\n",
    "                wf.write('%s\\n' % line)\n",
    "            except:\n",
    "                pass\n",
    "    \n",
    "    #append_new_category(rf1,wf1)\n",
    "    append_new_category(rf2,wf2)\n",
    "    #append_new_category(rf3,wf3)\n",
    "    return"
   ]
  },
  {
   "cell_type": "code",
   "execution_count": 24,
   "metadata": {},
   "outputs": [],
   "source": [
    "#split_img()\n",
    "train_img = open(os.path.join(PREFIX, 'train', 'list_eval_partition_train.txt')).readlines()\n",
    "test_img = open(os.path.join(PREFIX, 'test', 'list_eval_partition_test.txt')).readlines()\n",
    "val_img = open(os.path.join(PREFIX, 'val', 'list_eval_partition_val.txt')).readlines()\n",
    "#split_attribute(train_img, test_img, val_img)\n",
    "#split_category(train_img, test_img, val_img)\n",
    "#split_bbox(train_img, test_img, val_img)\n",
    "#split_lms(train_img, test_img, val_img)\n",
    "#remap_categories('dataset/modified_dataset/train/train_cate.txt','dataset/modified_dataset/test/test_cate.txt', 'dataset/modified_dataset/val/val_cate.txt' )\n",
    "#(len(train_img),len(test_img), len(val_img))\n"
   ]
  },
  {
   "cell_type": "code",
   "execution_count": 25,
   "metadata": {},
   "outputs": [],
   "source": [
    "def image_loader(image_path, image_size, bbox):\n",
    "    '''\n",
    "    Function to load image from disk and resize\n",
    "    :param image_path: path of image from disk\n",
    "    :param image_size: size of loaded image\n",
    "    '''\n",
    "\n",
    "    image,img_crop = None,None\n",
    "    image = cv2.imread(image_path)\n",
    "    \n",
    "    x, y, w, h = bbox[0], bbox[1], bbox[2]+bbox[0], bbox[3]+bbox[1]\n",
    "    try:\n",
    "        img_crop = image[y:y+h, x:x+w]\n",
    "        img_crop = cv2.cvtColor(img_crop, cv2.COLOR_BGR2RGB)\n",
    "        img_crop = cv2.resize(img_crop, image_size, cv2.INTER_CUBIC)\n",
    "        #test\n",
    "        \n",
    "        \n",
    "    except: #if image read fails just return None\n",
    "        pass\n",
    "    return img_crop\n",
    "\n",
    "#bounding box\n",
    "def get_bbox(bbox_file_path):\n",
    "    rf = open(bbox_file_path).readlines()\n",
    "    bboxes = []\n",
    "    for l in rf:\n",
    "        x,y,w,h,_ = l.strip('\\n').split(' ')\n",
    "        bbox = (int(x), int(y), int(w), int(h))\n",
    "        bboxes.append(bbox)\n",
    "    return bboxes"
   ]
  },
  {
   "cell_type": "code",
   "execution_count": 26,
   "metadata": {},
   "outputs": [],
   "source": [
    "\n",
    "def data_preprocessing(dataset_path, labels_file_path, image_size, image_paths_pickle, bbox_file_path=None):\n",
    "    '''\n",
    "    Loads images and labels from dataset folder.\n",
    "    \n",
    "    :param dataset_path: path to train/test dataset folder\n",
    "    :param labels_file_path: path to .txt file where classes names are written\n",
    "    :param image_size: tuple, single image size\n",
    "    :param image_paths_pickle:n name of pickle file where all image paths will be saved\n",
    "    '''\n",
    "    \n",
    "    with open(labels_file_path, 'r') as f:\n",
    "        classes = f.read().split('\\n')[:-1]\n",
    "        \n",
    "    images = [] #array of 32*32 images \n",
    "    labels = [] #array of integers denoting index of label in classes array\n",
    "    image_paths = []# absolute path of image including image name\n",
    "    \n",
    "    #bounding boxes processing\n",
    "    bboxes = get_bbox(bbox_file_path)\n",
    "    \n",
    "    img_file = open(dataset_path).readlines()\n",
    "    lbl_file = open(labels_file_path).readlines()\n",
    "    \n",
    "    for line in lbl_file:\n",
    "        label = line.split(' ')[1].strip('\\n')\n",
    "        labels.append(label)\n",
    "    \n",
    "    for idx,line in enumerate(img_file):\n",
    "        image_name = line.strip('\\n')\n",
    "        image_path = 'dataset/Img/'+ image_name\n",
    "        image_paths.append(image_path)\n",
    "        #shrink image\n",
    "        images.append(image_loader(image_path, image_size, bboxes[idx]))\n",
    "    \n",
    "    # Modify list to exclude None images.\n",
    "    '''\n",
    "    none=[idx for idx,item in enumerate(images) if  item is None]\n",
    "    images = list(filter(lambda item: item is not None,images)) #new list\n",
    "    labels = [item for idx, item in enumerate(labels) if idx not in none]\n",
    "    image_paths = [item for idx, item in enumerate(image_paths) if idx not in none]\n",
    "    \n",
    "    # create pickle file to store image paths\n",
    "    with open(image_paths_pickle + '.pickle', 'wb') as f:\n",
    "        pickle.dump(image_paths,f)\n",
    "    assert(len(images) == len(labels))\n",
    "    return np.array(images), np.array(labels)\n",
    "    \n",
    "    '''\n",
    "    none=[False if item is None else True for idx,item in enumerate(images) ]\n",
    "    images = np.array(images)\n",
    "    labels = np.array(labels)\n",
    "    images = images[none]\n",
    "    labels = labels[none]\n",
    "    \n",
    "    s =[]\n",
    "    l=[]\n",
    "    for i in range(len(images)):\n",
    "        s.append(images[i])\n",
    "        l.append(labels[i])\n",
    "    s = np.array(s)\n",
    "    l = np.array(l)\n",
    "    return s,l\n",
    "    \n",
    "    '''#recalibrate images and labels\n",
    "    images=images[not_none_index]\n",
    "    labels=labels[not_none_index]\n",
    "    image_paths=image_paths[not_none_index]\n",
    "    \n",
    "    # create pickle file to store image paths\n",
    "    with open(image_paths_pickle + '.pickle', 'wb') as f:\n",
    "        pickle.dump(image_paths,f)\n",
    "    assert(len(images) == len(labels))\n",
    "    return images, labels\n",
    "    '''"
   ]
  },
  {
   "cell_type": "code",
   "execution_count": null,
   "metadata": {},
   "outputs": [],
   "source": [
    "male =[{},None,3,4,None]\n",
    "male=np.array(male)\n",
    "\n",
    "mm = male!=None\n",
    "bb=np.array([6,7,8,9,10])\n",
    "mm"
   ]
  },
  {
   "cell_type": "markdown",
   "metadata": {},
   "source": [
    "## Step 2: Similarity calculation"
   ]
  },
  {
   "cell_type": "code",
   "execution_count": 28,
   "metadata": {},
   "outputs": [],
   "source": [
    "def cosine_distance(training_set_vectors, query_vector, top_n=50):\n",
    "    '''\n",
    "    Calculates cosine distance between query image and all training set images\n",
    "    \n",
    "    :param training_set_vectors: numpy matrix\n",
    "    :param query_vector: numpy vector\n",
    "    :param top_n: integer\n",
    "    '''\n",
    "    distances = []\n",
    "    \n",
    "    for training_vector in training_set_vectors:\n",
    "        distances.append(cosine(training_vector, query_vector[0]))\n",
    "    return np.argsort(distances)[:top_n]\n",
    "\n",
    "def hamming_distance(training_set_vectors, query_vector, top_n=50):\n",
    "    '''\n",
    "    Calculates hamming distance between query image and all training set images\n",
    "    \n",
    "    :param training_set_vectors: numpy matrix\n",
    "    :param query_vector: numpy vector\n",
    "    :param top_n: integer\n",
    "    '''\n",
    "    distances = []\n",
    "    \n",
    "    for training_vector in training_set_vectors:\n",
    "        distances.append(hamming(training_vector, query_vector[0]))\n",
    "    return np.argsort(distances)[:top_n]\n",
    "\n",
    "def sparse_acccuracy(true_labels, predicted_labels):\n",
    "    '''\n",
    "    Uses softmax output to calculate accuracy of model\n",
    "    \n",
    "    :param true_labels: array of real label ['4','4','4']\n",
    "    :param predicted_labels: matrix, each index contains an array with probablilties for corresponding label value [[0,0,0,1]]\n",
    "    '''\n",
    "    assert(len(true_labels) == len(predicted_labels))\n",
    "    \n",
    "    correct = 0\n",
    "    #print(true_labels)\n",
    "    #print(np.argmax(predicted_labels, axis=1))\n",
    "    for idx in range(len(true_labels)):\n",
    "        if np.argmax(predicted_labels[idx]) == true_labels[idx]:\n",
    "            correct+=1\n",
    "    #print(correct/len(true_labels))\n",
    "    return correct/len(true_labels)\n"
   ]
  },
  {
   "cell_type": "markdown",
   "metadata": {},
   "source": [
    "## Step 3: Model Utilities"
   ]
  },
  {
   "cell_type": "code",
   "execution_count": 29,
   "metadata": {},
   "outputs": [],
   "source": [
    "def model_inputs(image_size):\n",
    "    '''\n",
    "    Defines CNN inputs(placeholders)\n",
    "    \n",
    "    :param image_size: tuple, (height, width) of an image\n",
    "    '''\n",
    "    inputs = tf.placeholder(dtype= tf.float32, shape=[None,image_size[0], image_size[1],3], name='images')\n",
    "    targets = tf.placeholder(dtype=tf.int32, shape=[None], name='targets')\n",
    "    dropout_rate = tf.placeholder(dtype=tf.float32, name='dropout_rates')\n",
    "    \n",
    "    return inputs, targets, dropout_rate"
   ]
  },
  {
   "cell_type": "code",
   "execution_count": 5,
   "metadata": {},
   "outputs": [],
   "source": [
    "def conv_block(inputs,\n",
    "              number_of_filters,\n",
    "              kernel_size,\n",
    "              strides=(1,1),\n",
    "              padding='SAME',\n",
    "              activation=tf.nn.relu,\n",
    "              max_pool=True,\n",
    "              batch_norm=True):\n",
    "    '''\n",
    "    Defines convolutional block layer\n",
    "    \n",
    "    :param inputs: data from previous layer\n",
    "    :param number_of_filters: integer, number of conv filters \n",
    "    :param kernel_size: tuple, size of conv layer kernel\n",
    "    :param padding: string, type of padding technique: SAME or VALID\n",
    "    :param activation: tf.object, activation function used on the layer\n",
    "    :param max_pool: boolean, if true the conv block will use max_pool\n",
    "    :param batch_norm: boolean, if true the conv block will use batch normalization\n",
    "    '''\n",
    "    conv_features = layer = tf.layers.conv2d(inputs=inputs,\n",
    "                                            filters=number_of_filters,\n",
    "                                            kernel_size=kernel_size,\n",
    "                                            strides=strides,\n",
    "                                            padding=padding,\n",
    "                                            activation=activation)\n",
    "    \n",
    "    if max_pool:\n",
    "        layer = tf.layers.max_pooling2d(layer,\n",
    "                                       pool_size=(2,2),\n",
    "                                       strides=(2,2),\n",
    "                                       padding='SAME')\n",
    "    if batch_norm:\n",
    "        layer = tf.layers.batch_normalization(layer)\n",
    "    return layer, conv_features\n",
    "\n",
    "def dense_block(inputs,\n",
    "               units,\n",
    "               activation = tf.nn.relu,\n",
    "               dropout_rate=None,\n",
    "               batch_norm=True):\n",
    "    '''\n",
    "    Defines a dense block layer\n",
    "    \n",
    "    :Param inputs: data from a previous layer\n",
    "    :Param units: integer, number of neurons/units for a dense layer\n",
    "    :Param activation: tf,ibject, activation function used on the layer\n",
    "    :Param dropout_rate: dropout rate used in this dense block\n",
    "    :Param batch_norm: boolean, if true the conc block will use batch normalization\n",
    "    '''\n",
    "    \n",
    "    dense_features = layer = tf.layers.dense(inputs=inputs,\n",
    "                                            units=units,\n",
    "                                            activation=activation)\n",
    "    if dropout_rate is not None:\n",
    "        layer = tf.layers.dropout(layer,\n",
    "                                 rate=dropout_rate)\n",
    "    if batch_norm:\n",
    "        layer = tf.layers.batch_normalization(layer)\n",
    "    return layer, dense_features\n",
    "\n",
    "def opt_loss(logits,\n",
    "            targets,\n",
    "            learning_rate):\n",
    "    '''\n",
    "    Defines model's loss function and optimizer\n",
    "    \n",
    "    :param logits: pre-activated model outputs\n",
    "    :param targets: true labels for each input sample\n",
    "    :param learning_rate: learning rate\n",
    "    '''\n",
    "    loss = tf.reduce_mean(tf.nn.sparse_softmax_cross_entropy_with_logits(labels=targets, logits=logits))\n",
    "    optimizer = None\n",
    "    if learning_rate != 0:\n",
    "        optimizer=tf.train.AdamOptimizer(learning_rate=learning_rate).minimize(loss)\n",
    "    \n",
    "    return loss, optimizer"
   ]
  },
  {
   "cell_type": "code",
   "execution_count": 6,
   "metadata": {},
   "outputs": [],
   "source": [
    "class ImageSearchModel(object):\n",
    "    \n",
    "    def __init__(self ,\n",
    "                learning_rate,\n",
    "                image_size,\n",
    "                number_of_classes=6):\n",
    "        '''\n",
    "        Defines CNN model.\n",
    "        \n",
    "        :param learning_rate: learning_rate\n",
    "        :param image_size: tuple, (height, width) of an image\n",
    "        :param number_of_classes: integer, number of classes in a dataset.\n",
    "        '''\n",
    "        \n",
    "        tf.reset_default_graph()\n",
    "        \n",
    "        self.inputs, self.targets, self.dropout_rate = model_inputs(image_size)\n",
    "        \n",
    "        normalized_images = tf.layers.batch_normalization(self.inputs)\n",
    "        \n",
    "        #conv block 1\n",
    "        conv_block_1, self.conv_1_features = conv_block(inputs=normalized_images,\n",
    "                                                       number_of_filters =64,#6 ->2\n",
    "                                                       kernel_size=(3,3),\n",
    "                                                       strides=(1,1),\n",
    "                                                       padding='SAME',\n",
    "                                                       activation=tf.nn.relu,\n",
    "                                                       max_pool=True,\n",
    "                                                       batch_norm=True)\n",
    "        #conv block 2\n",
    "        conv_block_2, self.conv_2_features = conv_block(inputs=conv_block_1,\n",
    "                                                       number_of_filters =128,#7->3\n",
    "                                                       kernel_size=(3,3),\n",
    "                                                       strides=(1,1),\n",
    "                                                       padding='SAME',\n",
    "                                                       activation=tf.nn.relu,\n",
    "                                                       max_pool=True,\n",
    "                                                       batch_norm=True)\n",
    "        \n",
    "        #conv block 3\n",
    "        conv_block_3, self.conv_3_features = conv_block(inputs=conv_block_2,\n",
    "                                                       number_of_filters =256,#8 ->4\n",
    "                                                       kernel_size=(5,5),\n",
    "                                                       strides=(1,1),\n",
    "                                                       padding='SAME',\n",
    "                                                       activation=tf.nn.relu,\n",
    "                                                       max_pool=True,\n",
    "                                                       batch_norm=True)\n",
    "        #conv block 4\n",
    "        conv_block_4, self.conv_4_features = conv_block(inputs=conv_block_3,\n",
    "                                                       number_of_filters =512,#9 ->5\n",
    "                                                       kernel_size=(5,5),\n",
    "                                                       strides=(1,1),\n",
    "                                                       padding='SAME',\n",
    "                                                       activation=tf.nn.relu,\n",
    "                                                       max_pool=True,\n",
    "                                                       batch_norm=True)\n",
    "        #flattening\n",
    "        flat_layer = tf.layers.flatten(conv_block_4)\n",
    "        \n",
    "        #Dense block 1\n",
    "        dense_block_1, dense_1_features = dense_block(flat_layer,\n",
    "                                                     units=128,#7 ->3\n",
    "                                                     activation=tf.nn.relu,\n",
    "                                                     dropout_rate=self.dropout_rate,\n",
    "                                                     batch_norm=True)\n",
    "        \n",
    "        #Dense block 2\n",
    "        dense_block_2, self.dense_2_features = dense_block(dense_block_1,\n",
    "                                                     units=256,#8 ->4\n",
    "                                                     activation=tf.nn.relu,\n",
    "                                                     dropout_rate=self.dropout_rate,\n",
    "                                                     batch_norm=True)\n",
    "        #Dense block 3\n",
    "        dense_block_3, self.dense_3_features = dense_block(dense_block_2,\n",
    "                                                     units=512,#9 ->5\n",
    "                                                     activation=tf.nn.relu,\n",
    "                                                     dropout_rate=self.dropout_rate,\n",
    "                                                     batch_norm=True)\n",
    "        \n",
    "        #Dense block 4\n",
    "        dense_block_4, self.dense_4_features = dense_block(dense_block_3,\n",
    "                                                     units=1024,#10 ->6\n",
    "                                                     activation=tf.nn.relu,\n",
    "                                                     dropout_rate=self.dropout_rate,\n",
    "                                                     batch_norm=True)\n",
    "        logits = tf.layers.dense(inputs=dense_block_4,\n",
    "                                units=number_of_classes,\n",
    "                                activation=None)\n",
    "        \n",
    "        self.predictions = tf.nn.softmax(logits)\n",
    "        \n",
    "        self.loss, self.opt = opt_loss(logits=logits,\n",
    "                                      targets=self.targets,\n",
    "                                      learning_rate=learning_rate)"
   ]
  },
  {
   "cell_type": "code",
   "execution_count": 13,
   "metadata": {},
   "outputs": [
    {
     "name": "stdout",
     "output_type": "stream",
     "text": [
      "WARNING:tensorflow:From <ipython-input-12-48d417a502a4>:19: batch_normalization (from tensorflow.python.layers.normalization) is deprecated and will be removed in a future version.\n",
      "Instructions for updating:\n",
      "Use keras.layers.BatchNormalization instead.  In particular, `tf.control_dependencies(tf.GraphKeys.UPDATE_OPS)` should not be used (consult the `tf.keras.layers.BatchNormalization` documentation).\n",
      "WARNING:tensorflow:From /usr/local/lib/python3.5/dist-packages/tensorflow_core/python/layers/normalization.py:327: Layer.apply (from tensorflow.python.keras.engine.base_layer) is deprecated and will be removed in a future version.\n",
      "Instructions for updating:\n",
      "Please use `layer.__call__` method instead.\n",
      "WARNING:tensorflow:From <ipython-input-11-b511467fc2f8>:25: conv2d (from tensorflow.python.layers.convolutional) is deprecated and will be removed in a future version.\n",
      "Instructions for updating:\n",
      "Use `tf.keras.layers.Conv2D` instead.\n",
      "WARNING:tensorflow:From <ipython-input-11-b511467fc2f8>:31: max_pooling2d (from tensorflow.python.layers.pooling) is deprecated and will be removed in a future version.\n",
      "Instructions for updating:\n",
      "Use keras.layers.MaxPooling2D instead.\n",
      "WARNING:tensorflow:From <ipython-input-12-48d417a502a4>:59: flatten (from tensorflow.python.layers.core) is deprecated and will be removed in a future version.\n",
      "Instructions for updating:\n",
      "Use keras.layers.Flatten instead.\n",
      "WARNING:tensorflow:From <ipython-input-11-b511467fc2f8>:53: dense (from tensorflow.python.layers.core) is deprecated and will be removed in a future version.\n",
      "Instructions for updating:\n",
      "Use keras.layers.Dense instead.\n",
      "WARNING:tensorflow:From <ipython-input-11-b511467fc2f8>:56: dropout (from tensorflow.python.layers.core) is deprecated and will be removed in a future version.\n",
      "Instructions for updating:\n",
      "Use keras.layers.dropout instead.\n"
     ]
    }
   ],
   "source": [
    "model = ImageSearchModel(0.001,(32,32), 6)"
   ]
  },
  {
   "cell_type": "markdown",
   "metadata": {},
   "source": [
    "## Step 4 Training loop"
   ]
  },
  {
   "cell_type": "code",
   "execution_count": 7,
   "metadata": {},
   "outputs": [],
   "source": [
    "def train(model,\n",
    "         epochs,\n",
    "         drop_rate,\n",
    "         batch_size,\n",
    "         data,\n",
    "         save_dir,\n",
    "         saver_delta=0.15):\n",
    "    '''\n",
    "    Core training function, use this to train model.\n",
    "    :param model: CNN model\n",
    "    :param epochs: integer, number of epochs\n",
    "    :param drop_rate: float, dropout_rate\n",
    "    :param batch_size: integer, number of samples to put through the model at once\n",
    "    :param data: tuple, train-test data Example(X_train, y_train, X_test, y_test)\n",
    "    :param save_dir: string, path to a folder where model checkpoints will be saved\n",
    "    :param saver_delta: float, used to prevent overfitted model to be saved\n",
    "    '''\n",
    "    \n",
    "    X_train, y_train, X_test, y_test = data\n",
    "    \n",
    "    #session\n",
    "    session = tf.Session()\n",
    "    session.run(tf.global_variables_initializer())\n",
    "    \n",
    "    #Define saver\n",
    "    saver = tf.train.Saver()\n",
    "    \n",
    "    best_test_accuracy = 0\n",
    "    plot_train_loss = []\n",
    "    plot_train_accuracy = []\n",
    "    plot_test_accuracy = []\n",
    "    \n",
    "    #Training loop\n",
    "    for epoch in range(1,epochs+1):\n",
    "        \n",
    "        train_accuracy = []\n",
    "        train_loss = []\n",
    "        test_loss = []\n",
    "        \n",
    "        for ii in tqdm_notebook(range(len(X_train)//batch_size)):\n",
    "            start_id = ii * batch_size\n",
    "            end_id = start_id + batch_size\n",
    "            \n",
    "            X_batch = X_train[start_id:end_id]\n",
    "            y_batch = y_train[start_id:end_id]\n",
    "            \n",
    "            feed_dict = {\n",
    "                model.inputs: X_batch,\n",
    "                model.targets: y_batch,\n",
    "                model.dropout_rate:drop_rate\n",
    "            }\n",
    "            \n",
    "            _, t_loss, preds_t = session.run([model.opt, model.loss, model.predictions], feed_dict=feed_dict)\n",
    "            \n",
    "            train_accuracy.append(sparse_acccuracy(y_batch, preds_t))\n",
    "            train_loss.append(t_loss)\n",
    "        \n",
    "        \n",
    "        print(\"Epoch: {}/{}\".format(epoch, epochs),\n",
    "             \" | Training accuracy: {}\".format(np.mean(train_accuracy)),\n",
    "             \" | Training Loss: {}\".format(np.mean(train_loss)))\n",
    "        \n",
    "        plot_train_loss.append(np.mean(train_loss))\n",
    "        plot_train_accuracy.append(np.mean(train_accuracy))\n",
    "        \n",
    "        test_accuracy = []\n",
    "        \n",
    "        for ii in tqdm_notebook(range(len(X_test)//batch_size)):\n",
    "            start_id = ii * batch_size\n",
    "            end_id = start_id + batch_size\n",
    "            \n",
    "            X_batch = X_test[start_id:end_id]\n",
    "            y_batch = y_test[start_id:end_id]\n",
    "            \n",
    "            feed_dict = {\n",
    "                model.inputs: X_batch,\n",
    "                model.dropout_rate:0.0\n",
    "            }\n",
    "            \n",
    "            preds_test = session.run(model.predictions, feed_dict=feed_dict)\n",
    "            test_accuracy.append(sparse_acccuracy(y_batch, preds_test))\n",
    "            t_loss,_ = opt_loss(logits=preds_test, targets=y_batch,learning_rate=0)\n",
    "            #test_loss.append(t_loss)\n",
    "        print(\"Test accuracy: {}\".format(np.mean(test_accuracy)))\n",
    "        #print(\"Test loss: {}\".format(test_loss))\n",
    "        plot_test_accuracy.append(np.mean(test_accuracy))\n",
    "        \n",
    "        #saving the model\n",
    "        if np.mean(train_accuracy) > np.mean(test_accuracy):\n",
    "            if np.abs(np.mean(train_accuracy) - np.mean(test_accuracy)) <=saver_delta:\n",
    "                if np.mean(test_accuracy) >= best_test_accuracy:\n",
    "                    best_test_accuracy = np.mean(test_accuracy)\n",
    "                    saver.save(session, '{}/model_epoch_{}.ckpt'.format(save_dir, epoch))\n",
    "    session.close()\n",
    "    \n",
    "    plt.plot(plot_train_accuracy, label='training accuracy')\n",
    "    plt.plot(plot_test_accuracy, label='test accuracy')\n",
    "    plt.xlabel('# epoch')\n",
    "    plt.ylabel('accuracy value')\n",
    "    plt.legend()\n",
    "    plt.show()"
   ]
  },
  {
   "cell_type": "markdown",
   "metadata": {},
   "source": [
    "## Setting up hyperparameters and training the model"
   ]
  },
  {
   "cell_type": "code",
   "execution_count": null,
   "metadata": {},
   "outputs": [],
   "source": [
    "start = timer()\n",
    "X_t, y_t = data_preprocessing(\n",
    "'dataset/modified_dataset/train/list_eval_partition_train.txt',\n",
    "'dataset/modified_dataset/train/new_train_cate.txt',\n",
    "(224,224),\n",
    "'train_images_pickle',\n",
    "'dataset/modified_dataset/train/train_bbox.txt')\n",
    "end = timer()\n",
    "print(end - start)"
   ]
  },
  {
   "cell_type": "code",
   "execution_count": 17,
   "metadata": {
    "scrolled": false
   },
   "outputs": [
    {
     "name": "stdout",
     "output_type": "stream",
     "text": [
      "117.1626374519999\n"
     ]
    }
   ],
   "source": [
    "start = timer()\n",
    "X_test, y_test = data_preprocessing(\n",
    "'dataset/modified_dataset/test/list_eval_partition_test.txt',\n",
    "'dataset/modified_dataset/test/new_test_cate.txt',\n",
    "(32,32),\n",
    "'test_images_pickle',\n",
    "'dataset/modified_dataset/test/test_bbox.txt')\n",
    "end = timer()\n",
    "print(end - start) "
   ]
  },
  {
   "cell_type": "code",
   "execution_count": 18,
   "metadata": {},
   "outputs": [
    {
     "name": "stdout",
     "output_type": "stream",
     "text": [
      "116.91675237799996\n"
     ]
    }
   ],
   "source": [
    "start = timer()\n",
    "X_val, y_val = data_preprocessing(\n",
    "'dataset/modified_dataset/val/list_eval_partition_val.txt',\n",
    "'dataset/modified_dataset/val/new_val_cate.txt',\n",
    "(32,32),\n",
    "'val_images_pickle',\n",
    "'dataset/modified_dataset/val/val_bbox.txt')\n",
    "end = timer()\n",
    "print(end - start) "
   ]
  },
  {
   "cell_type": "code",
   "execution_count": 19,
   "metadata": {},
   "outputs": [],
   "source": [
    "np.save('dataset/modified_dataset/test/X_test', X_test)\n",
    "np.save('dataset/modified_dataset/test/y_test', y_test)"
   ]
  },
  {
   "cell_type": "code",
   "execution_count": 42,
   "metadata": {},
   "outputs": [
    {
     "data": {
      "text/plain": [
       "(9696, 32, 32, 3)"
      ]
     },
     "execution_count": 42,
     "metadata": {},
     "output_type": "execute_result"
    }
   ],
   "source": [
    "X_val.shape"
   ]
  },
  {
   "cell_type": "code",
   "execution_count": 22,
   "metadata": {},
   "outputs": [],
   "source": [
    "new_X_train = np.concatenate((X_t,X_val))\n",
    "new_y_train = np.concatenate((y_t,y_val))"
   ]
  },
  {
   "cell_type": "markdown",
   "metadata": {},
   "source": [
    "### Downsample training class"
   ]
  },
  {
   "cell_type": "code",
   "execution_count": 23,
   "metadata": {},
   "outputs": [
    {
     "name": "stdout",
     "output_type": "stream",
     "text": [
      "\n"
     ]
    }
   ],
   "source": [
    "#img = cv2.imread(dataset_path + 'img/Boxy_Open-Knit_Top/img_00000007.jpg')\n",
    "new_category_map = {'1':'0','4':'0','11':'0','13':'0', #Anorak, bomber, jacket,parka\n",
    "                    '6':'1', #Cardigan\n",
    "                    '16':'2',#sweater\n",
    "                    '17':'3',#Tank\n",
    "                    '3':'4',#blouse\n",
    "                    '18':'5'#Tee\n",
    "                   }\n",
    "#{'8', '10', '9', '7', '15', '12', '20', '4', '14', '5', '19'}\n",
    "#{ Halter, hoodie, Henley, Flannel, Poncho, Jersey, Turtleneck, Bomber, Peacoat, Button-Down, Top}\n",
    "print()"
   ]
  },
  {
   "cell_type": "code",
   "execution_count": 17,
   "metadata": {
    "scrolled": true
   },
   "outputs": [
    {
     "ename": "NameError",
     "evalue": "name 'new_y_train' is not defined",
     "output_type": "error",
     "traceback": [
      "\u001b[0;31m---------------------------------------------------------------------------\u001b[0m",
      "\u001b[0;31mNameError\u001b[0m                                 Traceback (most recent call last)",
      "\u001b[0;32m<ipython-input-17-ca30040dc65d>\u001b[0m in \u001b[0;36m<module>\u001b[0;34m\u001b[0m\n\u001b[1;32m      1\u001b[0m \u001b[0;31m#create mask of max images per class and apply to training data\u001b[0m\u001b[0;34m\u001b[0m\u001b[0;34m\u001b[0m\u001b[0m\n\u001b[1;32m      2\u001b[0m \u001b[0mn\u001b[0m \u001b[0;34m=\u001b[0m \u001b[0;36m6500\u001b[0m\u001b[0;34m\u001b[0m\u001b[0m\n\u001b[0;32m----> 3\u001b[0;31m \u001b[0mmask\u001b[0m \u001b[0;34m=\u001b[0m \u001b[0mnp\u001b[0m\u001b[0;34m.\u001b[0m\u001b[0mhstack\u001b[0m\u001b[0;34m(\u001b[0m\u001b[0;34m[\u001b[0m\u001b[0mnp\u001b[0m\u001b[0;34m.\u001b[0m\u001b[0mrandom\u001b[0m\u001b[0;34m.\u001b[0m\u001b[0mchoice\u001b[0m\u001b[0;34m(\u001b[0m\u001b[0mnp\u001b[0m\u001b[0;34m.\u001b[0m\u001b[0mwhere\u001b[0m\u001b[0;34m(\u001b[0m\u001b[0mnew_y_train\u001b[0m \u001b[0;34m==\u001b[0m \u001b[0ml\u001b[0m\u001b[0;34m)\u001b[0m\u001b[0;34m[\u001b[0m\u001b[0;36m0\u001b[0m\u001b[0;34m]\u001b[0m\u001b[0;34m,\u001b[0m \u001b[0mn\u001b[0m\u001b[0;34m,\u001b[0m \u001b[0mreplace\u001b[0m\u001b[0;34m=\u001b[0m\u001b[0;32mFalse\u001b[0m\u001b[0;34m)\u001b[0m \u001b[0;32mfor\u001b[0m \u001b[0ml\u001b[0m \u001b[0;32min\u001b[0m \u001b[0mnp\u001b[0m\u001b[0;34m.\u001b[0m\u001b[0munique\u001b[0m\u001b[0;34m(\u001b[0m\u001b[0mnew_y_train\u001b[0m\u001b[0;34m)\u001b[0m\u001b[0;34m]\u001b[0m\u001b[0;34m)\u001b[0m\u001b[0;34m\u001b[0m\u001b[0m\n\u001b[0m",
      "\u001b[0;31mNameError\u001b[0m: name 'new_y_train' is not defined"
     ]
    }
   ],
   "source": [
    "#create mask of max images per class and apply to training data\n",
    "n = 6500\n",
    "mask = np.hstack([np.random.choice(np.where(new_y_train == l)[0], n, replace=False) for l in np.unique(new_y_train)])"
   ]
  },
  {
   "cell_type": "code",
   "execution_count": 18,
   "metadata": {},
   "outputs": [
    {
     "ename": "NameError",
     "evalue": "name 'new_X_train' is not defined",
     "output_type": "error",
     "traceback": [
      "\u001b[0;31m---------------------------------------------------------------------------\u001b[0m",
      "\u001b[0;31mNameError\u001b[0m                                 Traceback (most recent call last)",
      "\u001b[0;32m<ipython-input-18-9fd6488e1c04>\u001b[0m in \u001b[0;36m<module>\u001b[0;34m\u001b[0m\n\u001b[0;32m----> 1\u001b[0;31m \u001b[0mnew_images_masked\u001b[0m \u001b[0;34m=\u001b[0m \u001b[0mnew_X_train\u001b[0m\u001b[0;34m[\u001b[0m\u001b[0mmask\u001b[0m\u001b[0;34m]\u001b[0m\u001b[0;34m\u001b[0m\u001b[0m\n\u001b[0m\u001b[1;32m      2\u001b[0m \u001b[0mnew_labels_masked\u001b[0m \u001b[0;34m=\u001b[0m \u001b[0mnew_y_train\u001b[0m\u001b[0;34m[\u001b[0m\u001b[0mmask\u001b[0m\u001b[0;34m]\u001b[0m\u001b[0;34m\u001b[0m\u001b[0m\n",
      "\u001b[0;31mNameError\u001b[0m: name 'new_X_train' is not defined"
     ]
    }
   ],
   "source": [
    "new_images_masked = new_X_train[mask]\n",
    "new_labels_masked = new_y_train[mask]"
   ]
  },
  {
   "cell_type": "code",
   "execution_count": 28,
   "metadata": {},
   "outputs": [],
   "source": [
    "#create mask of max images per class and apply to test data\n",
    "n2 = 900\n",
    "mask2 = np.hstack([np.random.choice(np.where(y_test == l)[0], n2, replace=False) for l in np.unique(y_test)])"
   ]
  },
  {
   "cell_type": "code",
   "execution_count": 29,
   "metadata": {},
   "outputs": [
    {
     "data": {
      "text/plain": [
       "5400"
      ]
     },
     "execution_count": 29,
     "metadata": {},
     "output_type": "execute_result"
    }
   ],
   "source": [
    "len(mask2)"
   ]
  },
  {
   "cell_type": "code",
   "execution_count": 30,
   "metadata": {},
   "outputs": [],
   "source": [
    "new_test_images_masked = X_test[mask2]\n",
    "new_test_labels_masked = y_test[mask2]"
   ]
  },
  {
   "cell_type": "code",
   "execution_count": 31,
   "metadata": {},
   "outputs": [
    {
     "data": {
      "text/plain": [
       "(900, 32, 32, 3)"
      ]
     },
     "execution_count": 31,
     "metadata": {},
     "output_type": "execute_result"
    }
   ],
   "source": [
    "new_test_images_masked[new_test_labels_masked=='4'].shape"
   ]
  },
  {
   "cell_type": "code",
   "execution_count": 33,
   "metadata": {
    "scrolled": true
   },
   "outputs": [],
   "source": [
    "#nx_train,ny_train = data_preprocessing('../sb/cifar/train/','../sb/cifar/labels.txt', (32,32), 'training_images_pickle')"
   ]
  },
  {
   "cell_type": "code",
   "execution_count": 34,
   "metadata": {},
   "outputs": [],
   "source": [
    "#nx_test,ny_test = data_preprocessing('../sb/cifar/train/','../sb/cifar/labels.txt', (32,32), 'test_images_pickle')"
   ]
  },
  {
   "cell_type": "markdown",
   "metadata": {},
   "source": [
    "## Shuffle data to redistribute classes"
   ]
  },
  {
   "cell_type": "code",
   "execution_count": 51,
   "metadata": {},
   "outputs": [],
   "source": [
    "from sklearn.utils import shuffle\n",
    "\n",
    "new_labels_masked = new_labels_masked.astype(np.int)\n",
    "new_test_labels_masked = new_test_labels_masked.astype(np.int)\n",
    "\n",
    "new_images_masked, new_labels_masked = shuffle(new_images_masked, new_labels_masked)\n",
    "new_test_images_masked, new_test_labels_masked = shuffle(new_test_images_masked, new_test_labels_masked)\n",
    "\n",
    "new_images_masked, new_labels_masked = shuffle(new_images_masked, new_labels_masked)\n",
    "new_test_images_masked, new_test_labels_masked = shuffle(new_test_images_masked, new_test_labels_masked)"
   ]
  },
  {
   "cell_type": "code",
   "execution_count": 56,
   "metadata": {},
   "outputs": [],
   "source": [
    "new_images_masked = new_images_masked/255.0\n",
    "np.save('dataset/modified_dataset/train/X_train', new_images_masked)\n",
    "np.save('dataset/modified_dataset/train/y_train', new_labels_masked)"
   ]
  },
  {
   "cell_type": "code",
   "execution_count": 57,
   "metadata": {},
   "outputs": [],
   "source": [
    "new_test_images_masked = new_test_images_masked/255.0\n",
    "np.save('dataset/modified_dataset/test/X_test', new_test_images_masked)\n",
    "np.save('dataset/modified_dataset/test/y_test', new_test_labels_masked)"
   ]
  },
  {
   "cell_type": "markdown",
   "metadata": {},
   "source": [
    "## Load dataset from npy file"
   ]
  },
  {
   "cell_type": "code",
   "execution_count": 8,
   "metadata": {},
   "outputs": [],
   "source": [
    "new_images_masked = np.load('dataset/modified_dataset/train/X_train.npy')\n",
    "new_labels_masked = np.load('dataset/modified_dataset/train/y_train.npy')\n",
    "\n",
    "new_test_images_masked = np.load('dataset/modified_dataset/test/X_test.npy')\n",
    "new_test_labels_masked = np.load('dataset/modified_dataset/test/y_test.npy')"
   ]
  },
  {
   "cell_type": "markdown",
   "metadata": {},
   "source": [
    "# merge and reshuffle using keras model"
   ]
  },
  {
   "cell_type": "code",
   "execution_count": 9,
   "metadata": {},
   "outputs": [],
   "source": [
    "new_X = np.concatenate((new_images_masked,new_test_images_masked))\n",
    "new_y = np.concatenate((new_labels_masked,new_test_labels_masked))"
   ]
  },
  {
   "cell_type": "code",
   "execution_count": 17,
   "metadata": {},
   "outputs": [],
   "source": [
    "# helper\n",
    "def y2indicator(Y):\n",
    "    N = len(Y)\n",
    "    K = len(set(Y))\n",
    "    I = np.zeros((N, K))\n",
    "    I[np.arange(N), Y] = 1\n",
    "    return I"
   ]
  },
  {
   "cell_type": "code",
   "execution_count": 20,
   "metadata": {},
   "outputs": [],
   "source": [
    "new_y=y2indicator(new_y)"
   ]
  },
  {
   "cell_type": "code",
   "execution_count": 16,
   "metadata": {},
   "outputs": [],
   "source": [
    "from keras.models import Sequential,  Model\n",
    "from keras.layers import Dense, Activation, Conv2D, MaxPooling2D, Flatten, Dropout, BatchNormalization, Input\n",
    "\n",
    "import matplotlib.pyplot as plt\n",
    "import pandas as pd\n",
    "import numpy as np"
   ]
  },
  {
   "cell_type": "code",
   "execution_count": 17,
   "metadata": {},
   "outputs": [
    {
     "name": "stdout",
     "output_type": "stream",
     "text": [
      "\n"
     ]
    }
   ],
   "source": [
    "'''\n",
    "K = 6\n",
    "# make the CNN using KEras functional API\n",
    "i = Input(shape=(32, 32, 3))\n",
    "x = Conv2D(filters=32, kernel_size=(3, 3))(i)\n",
    "x = BatchNormalization()(x)\n",
    "x = Activation('relu')(x)\n",
    "x = MaxPooling2D()(x)\n",
    "\n",
    "x = Conv2D(filters=64, kernel_size=(3, 3))(x)\n",
    "x = BatchNormalization()(x)\n",
    "x = Activation('relu')(x)\n",
    "x = MaxPooling2D()(x)\n",
    "\n",
    "x = Flatten()(x)\n",
    "x = Dense(units=100)(x)\n",
    "x = Activation('relu')(x)\n",
    "x = Dropout(0.3)(x)\n",
    "x = Dense(units=K)(x)\n",
    "x = Activation('softmax')(x)\n",
    "\n",
    "model = Model(inputs=i, outputs=x)\n",
    "\n",
    "\n",
    "# list of losses: https://keras.io/losses/\n",
    "# list of optimizers: https://keras.io/optimizers/\n",
    "# list of metrics: https://keras.io/metrics/\n",
    "a\n",
    "\n",
    "# note: multiple ways to choose a backend\n",
    "# either theano, tensorflow, or cntk\n",
    "# https://keras.io/backend/\n",
    "'''\n",
    "print()"
   ]
  },
  {
   "cell_type": "code",
   "execution_count": 10,
   "metadata": {},
   "outputs": [
    {
     "name": "stdout",
     "output_type": "stream",
     "text": [
      "WARNING:tensorflow:From /usr/local/lib/python3.5/dist-packages/tensorflow_core/python/ops/resource_variable_ops.py:1635: calling BaseResourceVariable.__init__ (from tensorflow.python.ops.resource_variable_ops) with constraint is deprecated and will be removed in a future version.\n",
      "Instructions for updating:\n",
      "If using Keras pass *_constraint arguments to layers.\n",
      "Downloading data from https://github.com/fchollet/deep-learning-models/releases/download/v0.1/vgg16_weights_tf_dim_ordering_tf_kernels.h5\n",
      "553467904/553467096 [==============================] - 16s 0us/step\n"
     ]
    }
   ],
   "source": [
    "model = VGG16(include_top=True, weights='imagenet')"
   ]
  },
  {
   "cell_type": "code",
   "execution_count": 17,
   "metadata": {},
   "outputs": [],
   "source": [
    "model.compile(\n",
    "  loss='categorical_crossentropy',\n",
    "  optimizer='adam',\n",
    "  metrics=['accuracy']\n",
    ")"
   ]
  },
  {
   "cell_type": "code",
   "execution_count": 19,
   "metadata": {},
   "outputs": [
    {
     "ename": "ValueError",
     "evalue": "Error when checking input: expected input_1 to have shape (224, 224, 3) but got array with shape (32, 32, 3)",
     "output_type": "error",
     "traceback": [
      "\u001b[0;31m---------------------------------------------------------------------------\u001b[0m",
      "\u001b[0;31mValueError\u001b[0m                                Traceback (most recent call last)",
      "\u001b[0;32m<ipython-input-19-e84fd330b06d>\u001b[0m in \u001b[0;36m<module>\u001b[0;34m\u001b[0m\n\u001b[1;32m      1\u001b[0m \u001b[0;31m# gives us back a <keras.callbacks.History object at 0x112e61a90>\u001b[0m\u001b[0;34m\u001b[0m\u001b[0;34m\u001b[0m\u001b[0m\n\u001b[0;32m----> 2\u001b[0;31m \u001b[0mr\u001b[0m \u001b[0;34m=\u001b[0m \u001b[0mmodel\u001b[0m\u001b[0;34m.\u001b[0m\u001b[0mfit\u001b[0m\u001b[0;34m(\u001b[0m\u001b[0mnew_X\u001b[0m\u001b[0;34m,\u001b[0m \u001b[0mnew_y\u001b[0m\u001b[0;34m,\u001b[0m \u001b[0mvalidation_split\u001b[0m\u001b[0;34m=\u001b[0m\u001b[0;36m0.33\u001b[0m\u001b[0;34m,\u001b[0m \u001b[0mepochs\u001b[0m\u001b[0;34m=\u001b[0m\u001b[0;36m10\u001b[0m\u001b[0;34m,\u001b[0m \u001b[0mbatch_size\u001b[0m\u001b[0;34m=\u001b[0m\u001b[0;36m256\u001b[0m\u001b[0;34m)\u001b[0m\u001b[0;34m\u001b[0m\u001b[0m\n\u001b[0m\u001b[1;32m      3\u001b[0m \u001b[0mprint\u001b[0m\u001b[0;34m(\u001b[0m\u001b[0;34m\"Returned:\"\u001b[0m\u001b[0;34m,\u001b[0m \u001b[0mr\u001b[0m\u001b[0;34m)\u001b[0m\u001b[0;34m\u001b[0m\u001b[0m\n",
      "\u001b[0;32m/usr/local/lib/python3.5/dist-packages/keras/engine/training.py\u001b[0m in \u001b[0;36mfit\u001b[0;34m(self, x, y, batch_size, epochs, verbose, callbacks, validation_split, validation_data, shuffle, class_weight, sample_weight, initial_epoch, steps_per_epoch, validation_steps, validation_freq, max_queue_size, workers, use_multiprocessing, **kwargs)\u001b[0m\n\u001b[1;32m   1152\u001b[0m             \u001b[0msample_weight\u001b[0m\u001b[0;34m=\u001b[0m\u001b[0msample_weight\u001b[0m\u001b[0;34m,\u001b[0m\u001b[0;34m\u001b[0m\u001b[0m\n\u001b[1;32m   1153\u001b[0m             \u001b[0mclass_weight\u001b[0m\u001b[0;34m=\u001b[0m\u001b[0mclass_weight\u001b[0m\u001b[0;34m,\u001b[0m\u001b[0;34m\u001b[0m\u001b[0m\n\u001b[0;32m-> 1154\u001b[0;31m             batch_size=batch_size)\n\u001b[0m\u001b[1;32m   1155\u001b[0m \u001b[0;34m\u001b[0m\u001b[0m\n\u001b[1;32m   1156\u001b[0m         \u001b[0;31m# Prepare validation data.\u001b[0m\u001b[0;34m\u001b[0m\u001b[0;34m\u001b[0m\u001b[0m\n",
      "\u001b[0;32m/usr/local/lib/python3.5/dist-packages/keras/engine/training.py\u001b[0m in \u001b[0;36m_standardize_user_data\u001b[0;34m(self, x, y, sample_weight, class_weight, check_array_lengths, batch_size)\u001b[0m\n\u001b[1;32m    577\u001b[0m             \u001b[0mfeed_input_shapes\u001b[0m\u001b[0;34m,\u001b[0m\u001b[0;34m\u001b[0m\u001b[0m\n\u001b[1;32m    578\u001b[0m             \u001b[0mcheck_batch_axis\u001b[0m\u001b[0;34m=\u001b[0m\u001b[0;32mFalse\u001b[0m\u001b[0;34m,\u001b[0m  \u001b[0;31m# Don't enforce the batch size.\u001b[0m\u001b[0;34m\u001b[0m\u001b[0m\n\u001b[0;32m--> 579\u001b[0;31m             exception_prefix='input')\n\u001b[0m\u001b[1;32m    580\u001b[0m \u001b[0;34m\u001b[0m\u001b[0m\n\u001b[1;32m    581\u001b[0m         \u001b[0;32mif\u001b[0m \u001b[0my\u001b[0m \u001b[0;32mis\u001b[0m \u001b[0;32mnot\u001b[0m \u001b[0;32mNone\u001b[0m\u001b[0;34m:\u001b[0m\u001b[0;34m\u001b[0m\u001b[0m\n",
      "\u001b[0;32m/usr/local/lib/python3.5/dist-packages/keras/engine/training_utils.py\u001b[0m in \u001b[0;36mstandardize_input_data\u001b[0;34m(data, names, shapes, check_batch_axis, exception_prefix)\u001b[0m\n\u001b[1;32m    143\u001b[0m                             \u001b[0;34m': expected '\u001b[0m \u001b[0;34m+\u001b[0m \u001b[0mnames\u001b[0m\u001b[0;34m[\u001b[0m\u001b[0mi\u001b[0m\u001b[0;34m]\u001b[0m \u001b[0;34m+\u001b[0m \u001b[0;34m' to have shape '\u001b[0m \u001b[0;34m+\u001b[0m\u001b[0;34m\u001b[0m\u001b[0m\n\u001b[1;32m    144\u001b[0m                             \u001b[0mstr\u001b[0m\u001b[0;34m(\u001b[0m\u001b[0mshape\u001b[0m\u001b[0;34m)\u001b[0m \u001b[0;34m+\u001b[0m \u001b[0;34m' but got array with shape '\u001b[0m \u001b[0;34m+\u001b[0m\u001b[0;34m\u001b[0m\u001b[0m\n\u001b[0;32m--> 145\u001b[0;31m                             str(data_shape))\n\u001b[0m\u001b[1;32m    146\u001b[0m     \u001b[0;32mreturn\u001b[0m \u001b[0mdata\u001b[0m\u001b[0;34m\u001b[0m\u001b[0m\n\u001b[1;32m    147\u001b[0m \u001b[0;34m\u001b[0m\u001b[0m\n",
      "\u001b[0;31mValueError\u001b[0m: Error when checking input: expected input_1 to have shape (224, 224, 3) but got array with shape (32, 32, 3)"
     ]
    }
   ],
   "source": [
    "# gives us back a <keras.callbacks.History object at 0x112e61a90>\n",
    "r = model.fit(new_X, new_y, validation_split=0.33, epochs=10, batch_size=256)\n",
    "print(\"Returned:\", r)"
   ]
  },
  {
   "cell_type": "code",
   "execution_count": 28,
   "metadata": {},
   "outputs": [
    {
     "name": "stdout",
     "output_type": "stream",
     "text": [
      "dict_keys(['accuracy', 'val_loss', 'val_accuracy', 'loss'])\n"
     ]
    }
   ],
   "source": [
    "print(r.history.keys())"
   ]
  },
  {
   "cell_type": "code",
   "execution_count": 29,
   "metadata": {},
   "outputs": [
    {
     "data": {
      "image/png": "[encoded data removed]",
      "text/plain": [
       "<Figure size 432x288 with 1 Axes>"
      ]
     },
     "metadata": {
      "needs_background": "light"
     },
     "output_type": "display_data"
    },
    {
     "data": {
      "image/png": "[encoded data removed]",
      "text/plain": [
       "<Figure size 432x288 with 1 Axes>"
      ]
     },
     "metadata": {
      "needs_background": "light"
     },
     "output_type": "display_data"
    }
   ],
   "source": [
    "# plot some data\n",
    "plt.plot(r.history['loss'], label='loss')\n",
    "plt.plot(r.history['val_loss'], label='val_loss')\n",
    "plt.legend()\n",
    "plt.show()\n",
    "\n",
    "# accuracies\n",
    "plt.plot(r.history['accuracy'], label='acc')\n",
    "plt.plot(r.history['val_accuracy'], label='val_acc')\n",
    "plt.legend()\n",
    "plt.show()"
   ]
  },
  {
   "cell_type": "code",
   "execution_count": 36,
   "metadata": {},
   "outputs": [
    {
     "name": "stdout",
     "output_type": "stream",
     "text": [
      "3\n"
     ]
    },
    {
     "data": {
      "image/png": "[encoded data removed]",
      "text/plain": [
       "<Figure size 432x288 with 1 Axes>"
      ]
     },
     "metadata": {
      "needs_background": "light"
     },
     "output_type": "display_data"
    }
   ],
   "source": [
    "i = 4200\n",
    "img = new_test_images_masked[i]\n",
    "img2 = img[:,:,::-1]\n",
    "plt.imshow(img2)\n",
    "print(new_test_labels_masked[i])"
   ]
  },
  {
   "cell_type": "code",
   "execution_count": 37,
   "metadata": {},
   "outputs": [],
   "source": [
    "new_X,new_y = shuffle(new_X,new_y)"
   ]
  },
  {
   "cell_type": "code",
   "execution_count": 38,
   "metadata": {
    "scrolled": true
   },
   "outputs": [],
   "source": [
    "X_t, X_tt, y_t, y_tt = train_test_split(new_X, new_y, test_size=0.33, random_state=42)"
   ]
  },
  {
   "cell_type": "code",
   "execution_count": 39,
   "metadata": {},
   "outputs": [],
   "source": [
    "data = (X_t, y_t, X_tt, y_tt)"
   ]
  },
  {
   "cell_type": "code",
   "execution_count": 23,
   "metadata": {},
   "outputs": [],
   "source": [
    "#data = (new_images_masked, new_labels_masked, new_test_images_masked, new_test_labels_masked)\n",
    "#data = (nx_train,ny_train,nx_test,ny_test)"
   ]
  },
  {
   "cell_type": "markdown",
   "metadata": {},
   "source": [
    "## Set hyperparameter and train model"
   ]
  },
  {
   "cell_type": "code",
   "execution_count": 41,
   "metadata": {},
   "outputs": [],
   "source": [
    "'''\n",
    "epochs = 20\n",
    "batch_size = 512\n",
    "learning_rate = 0.001\n",
    "dropout_probs = 0.5\n",
    "\n",
    "dense3 train = 0.9, test = 0.49\n",
    "'''\n",
    "epochs = 20\n",
    "batch_size = 128\n",
    "learning_rate = 0.005\n",
    "dropout_probs = 0.5"
   ]
  },
  {
   "cell_type": "code",
   "execution_count": 42,
   "metadata": {},
   "outputs": [],
   "source": [
    "#define the model\n",
    "modell = ImageSearchModel(learning_rate, (32,32), 6)"
   ]
  },
  {
   "cell_type": "code",
   "execution_count": 43,
   "metadata": {
    "scrolled": false
   },
   "outputs": [
    {
     "name": "stderr",
     "output_type": "stream",
     "text": [
      "/usr/local/lib/python3.5/dist-packages/ipykernel_launcher.py:40: TqdmDeprecationWarning: This function will be removed in tqdm==5.0.0\n",
      "Please use `tqdm.notebook.tqdm` instead of `tqdm.tqdm_notebook`\n"
     ]
    },
    {
     "data": {
      "application/vnd.jupyter.widget-view+json": {
       "model_id": "55d42e63d9ab46a6bd126680934ef054",
       "version_major": 2,
       "version_minor": 0
      },
      "text/plain": [
       "HBox(children=(FloatProgress(value=0.0, max=232.0), HTML(value='')))"
      ]
     },
     "metadata": {},
     "output_type": "display_data"
    },
    {
     "name": "stdout",
     "output_type": "stream",
     "text": [
      "\n",
      "Epoch: 1/20  | Training accuracy: 0.18645608836206898  | Training Loss: 2.096726894378662\n"
     ]
    },
    {
     "name": "stderr",
     "output_type": "stream",
     "text": [
      "/usr/local/lib/python3.5/dist-packages/ipykernel_launcher.py:68: TqdmDeprecationWarning: This function will be removed in tqdm==5.0.0\n",
      "Please use `tqdm.notebook.tqdm` instead of `tqdm.tqdm_notebook`\n"
     ]
    },
    {
     "data": {
      "application/vnd.jupyter.widget-view+json": {
       "model_id": "b8c7713be72f4f70b43405e40e6fabd7",
       "version_major": 2,
       "version_minor": 0
      },
      "text/plain": [
       "HBox(children=(FloatProgress(value=0.0, max=114.0), HTML(value='')))"
      ]
     },
     "metadata": {},
     "output_type": "display_data"
    },
    {
     "name": "stdout",
     "output_type": "stream",
     "text": [
      "\n",
      "Test accuracy: 0.19867050438596492\n"
     ]
    },
    {
     "data": {
      "application/vnd.jupyter.widget-view+json": {
       "model_id": "070618cc51544608ad1ad09852aa05b0",
       "version_major": 2,
       "version_minor": 0
      },
      "text/plain": [
       "HBox(children=(FloatProgress(value=0.0, max=232.0), HTML(value='')))"
      ]
     },
     "metadata": {},
     "output_type": "display_data"
    },
    {
     "name": "stdout",
     "output_type": "stream",
     "text": [
      "\n",
      "Epoch: 2/20  | Training accuracy: 0.24737338362068967  | Training Loss: 1.7262465953826904\n"
     ]
    },
    {
     "data": {
      "application/vnd.jupyter.widget-view+json": {
       "model_id": "c3ee2e7d1e6847feb97ba2dd58012076",
       "version_major": 2,
       "version_minor": 0
      },
      "text/plain": [
       "HBox(children=(FloatProgress(value=0.0, max=114.0), HTML(value='')))"
      ]
     },
     "metadata": {},
     "output_type": "display_data"
    },
    {
     "name": "stdout",
     "output_type": "stream",
     "text": [
      "\n",
      "Test accuracy: 0.26541940789473684\n"
     ]
    },
    {
     "data": {
      "application/vnd.jupyter.widget-view+json": {
       "model_id": "f02df2144cc846919fd0c80685c5edda",
       "version_major": 2,
       "version_minor": 0
      },
      "text/plain": [
       "HBox(children=(FloatProgress(value=0.0, max=232.0), HTML(value='')))"
      ]
     },
     "metadata": {},
     "output_type": "display_data"
    },
    {
     "name": "stdout",
     "output_type": "stream",
     "text": [
      "\n",
      "Epoch: 3/20  | Training accuracy: 0.31819100215517243  | Training Loss: 1.599303126335144\n"
     ]
    },
    {
     "data": {
      "application/vnd.jupyter.widget-view+json": {
       "model_id": "dd077b9cf9254671ace9baf31d46a33a",
       "version_major": 2,
       "version_minor": 0
      },
      "text/plain": [
       "HBox(children=(FloatProgress(value=0.0, max=114.0), HTML(value='')))"
      ]
     },
     "metadata": {},
     "output_type": "display_data"
    },
    {
     "name": "stdout",
     "output_type": "stream",
     "text": [
      "\n",
      "Test accuracy: 0.3374451754385965\n"
     ]
    },
    {
     "data": {
      "application/vnd.jupyter.widget-view+json": {
       "model_id": "edef551bdcc747209abac0f128f97e25",
       "version_major": 2,
       "version_minor": 0
      },
      "text/plain": [
       "HBox(children=(FloatProgress(value=0.0, max=232.0), HTML(value='')))"
      ]
     },
     "metadata": {},
     "output_type": "display_data"
    },
    {
     "name": "stdout",
     "output_type": "stream",
     "text": [
      "\n",
      "Epoch: 4/20  | Training accuracy: 0.3543911637931034  | Training Loss: 1.5253347158432007\n"
     ]
    },
    {
     "data": {
      "application/vnd.jupyter.widget-view+json": {
       "model_id": "a45f15872ac2461d8776580a66a91b41",
       "version_major": 2,
       "version_minor": 0
      },
      "text/plain": [
       "HBox(children=(FloatProgress(value=0.0, max=114.0), HTML(value='')))"
      ]
     },
     "metadata": {},
     "output_type": "display_data"
    },
    {
     "name": "stdout",
     "output_type": "stream",
     "text": [
      "\n",
      "Test accuracy: 0.3712308114035088\n"
     ]
    },
    {
     "data": {
      "application/vnd.jupyter.widget-view+json": {
       "model_id": "9bac1bc065d744e6bf1f3d38916f9999",
       "version_major": 2,
       "version_minor": 0
      },
      "text/plain": [
       "HBox(children=(FloatProgress(value=0.0, max=232.0), HTML(value='')))"
      ]
     },
     "metadata": {},
     "output_type": "display_data"
    },
    {
     "name": "stdout",
     "output_type": "stream",
     "text": [
      "\n",
      "Epoch: 5/20  | Training accuracy: 0.38671875  | Training Loss: 1.4825537204742432\n"
     ]
    },
    {
     "data": {
      "application/vnd.jupyter.widget-view+json": {
       "model_id": "96e8d2cefb484e119922d668e7355cf0",
       "version_major": 2,
       "version_minor": 0
      },
      "text/plain": [
       "HBox(children=(FloatProgress(value=0.0, max=114.0), HTML(value='')))"
      ]
     },
     "metadata": {},
     "output_type": "display_data"
    },
    {
     "name": "stdout",
     "output_type": "stream",
     "text": [
      "\n",
      "Test accuracy: 0.38788377192982454\n"
     ]
    },
    {
     "data": {
      "application/vnd.jupyter.widget-view+json": {
       "model_id": "48e2e3737d544dca9a9dd23bc2dbc666",
       "version_major": 2,
       "version_minor": 0
      },
      "text/plain": [
       "HBox(children=(FloatProgress(value=0.0, max=232.0), HTML(value='')))"
      ]
     },
     "metadata": {},
     "output_type": "display_data"
    },
    {
     "name": "stdout",
     "output_type": "stream",
     "text": [
      "\n",
      "Epoch: 6/20  | Training accuracy: 0.4016029094827586  | Training Loss: 1.4569804668426514\n"
     ]
    },
    {
     "data": {
      "application/vnd.jupyter.widget-view+json": {
       "model_id": "d358395748b74cd08f6438db5dfe0495",
       "version_major": 2,
       "version_minor": 0
      },
      "text/plain": [
       "HBox(children=(FloatProgress(value=0.0, max=114.0), HTML(value='')))"
      ]
     },
     "metadata": {},
     "output_type": "display_data"
    },
    {
     "name": "stdout",
     "output_type": "stream",
     "text": [
      "\n",
      "Test accuracy: 0.40460526315789475\n"
     ]
    },
    {
     "data": {
      "application/vnd.jupyter.widget-view+json": {
       "model_id": "c370d21a46d740688ecdb560861237cf",
       "version_major": 2,
       "version_minor": 0
      },
      "text/plain": [
       "HBox(children=(FloatProgress(value=0.0, max=232.0), HTML(value='')))"
      ]
     },
     "metadata": {},
     "output_type": "display_data"
    },
    {
     "name": "stdout",
     "output_type": "stream",
     "text": [
      "\n",
      "Epoch: 7/20  | Training accuracy: 0.41908001077586204  | Training Loss: 1.4315985441207886\n"
     ]
    },
    {
     "data": {
      "application/vnd.jupyter.widget-view+json": {
       "model_id": "4a9a8f3320134fb6a45ad6145d658cd5",
       "version_major": 2,
       "version_minor": 0
      },
      "text/plain": [
       "HBox(children=(FloatProgress(value=0.0, max=114.0), HTML(value='')))"
      ]
     },
     "metadata": {},
     "output_type": "display_data"
    },
    {
     "name": "stdout",
     "output_type": "stream",
     "text": [
      "\n",
      "Test accuracy: 0.41495339912280704\n"
     ]
    },
    {
     "data": {
      "application/vnd.jupyter.widget-view+json": {
       "model_id": "f50312b8daf742538902567d41c56158",
       "version_major": 2,
       "version_minor": 0
      },
      "text/plain": [
       "HBox(children=(FloatProgress(value=0.0, max=232.0), HTML(value='')))"
      ]
     },
     "metadata": {},
     "output_type": "display_data"
    },
    {
     "name": "stdout",
     "output_type": "stream",
     "text": [
      "\n",
      "Epoch: 8/20  | Training accuracy: 0.4359846443965517  | Training Loss: 1.4018480777740479\n"
     ]
    },
    {
     "data": {
      "application/vnd.jupyter.widget-view+json": {
       "model_id": "a37ea7f2f7a14c4797371e109570d3fa",
       "version_major": 2,
       "version_minor": 0
      },
      "text/plain": [
       "HBox(children=(FloatProgress(value=0.0, max=114.0), HTML(value='')))"
      ]
     },
     "metadata": {},
     "output_type": "display_data"
    },
    {
     "name": "stdout",
     "output_type": "stream",
     "text": [
      "\n",
      "Test accuracy: 0.41241776315789475\n"
     ]
    },
    {
     "data": {
      "application/vnd.jupyter.widget-view+json": {
       "model_id": "3e28d472522d48a4b7cec0a80fa579db",
       "version_major": 2,
       "version_minor": 0
      },
      "text/plain": [
       "HBox(children=(FloatProgress(value=0.0, max=232.0), HTML(value='')))"
      ]
     },
     "metadata": {},
     "output_type": "display_data"
    },
    {
     "name": "stdout",
     "output_type": "stream",
     "text": [
      "\n",
      "Epoch: 9/20  | Training accuracy: 0.4512728987068966  | Training Loss: 1.3786019086837769\n"
     ]
    },
    {
     "data": {
      "application/vnd.jupyter.widget-view+json": {
       "model_id": "b007f55b574c49b5b4ac3fe3f90d18a1",
       "version_major": 2,
       "version_minor": 0
      },
      "text/plain": [
       "HBox(children=(FloatProgress(value=0.0, max=114.0), HTML(value='')))"
      ]
     },
     "metadata": {},
     "output_type": "display_data"
    },
    {
     "name": "stdout",
     "output_type": "stream",
     "text": [
      "\n",
      "Test accuracy: 0.39953399122807015\n"
     ]
    },
    {
     "data": {
      "application/vnd.jupyter.widget-view+json": {
       "model_id": "59454141796846799c1256dd331c9235",
       "version_major": 2,
       "version_minor": 0
      },
      "text/plain": [
       "HBox(children=(FloatProgress(value=0.0, max=232.0), HTML(value='')))"
      ]
     },
     "metadata": {},
     "output_type": "display_data"
    },
    {
     "name": "stdout",
     "output_type": "stream",
     "text": [
      "\n",
      "Epoch: 10/20  | Training accuracy: 0.4641029094827586  | Training Loss: 1.3527112007141113\n"
     ]
    },
    {
     "data": {
      "application/vnd.jupyter.widget-view+json": {
       "model_id": "d2924eba9d1745ac8cd89c420bc19271",
       "version_major": 2,
       "version_minor": 0
      },
      "text/plain": [
       "HBox(children=(FloatProgress(value=0.0, max=114.0), HTML(value='')))"
      ]
     },
     "metadata": {},
     "output_type": "display_data"
    },
    {
     "name": "stdout",
     "output_type": "stream",
     "text": [
      "\n",
      "Test accuracy: 0.4278371710526316\n"
     ]
    },
    {
     "data": {
      "application/vnd.jupyter.widget-view+json": {
       "model_id": "1b133c361fec49bba48b0b412ed38f21",
       "version_major": 2,
       "version_minor": 0
      },
      "text/plain": [
       "HBox(children=(FloatProgress(value=0.0, max=232.0), HTML(value='')))"
      ]
     },
     "metadata": {},
     "output_type": "display_data"
    },
    {
     "name": "stdout",
     "output_type": "stream",
     "text": [
      "\n",
      "Epoch: 11/20  | Training accuracy: 0.4726899245689655  | Training Loss: 1.3316447734832764\n"
     ]
    },
    {
     "data": {
      "application/vnd.jupyter.widget-view+json": {
       "model_id": "b58d19352c984b2db1f00f653b18aa8d",
       "version_major": 2,
       "version_minor": 0
      },
      "text/plain": [
       "HBox(children=(FloatProgress(value=0.0, max=114.0), HTML(value='')))"
      ]
     },
     "metadata": {},
     "output_type": "display_data"
    },
    {
     "name": "stdout",
     "output_type": "stream",
     "text": [
      "\n",
      "Test accuracy: 0.4270833333333333\n"
     ]
    },
    {
     "data": {
      "application/vnd.jupyter.widget-view+json": {
       "model_id": "479ac9f8851e47c4973dab0702cd7e29",
       "version_major": 2,
       "version_minor": 0
      },
      "text/plain": [
       "HBox(children=(FloatProgress(value=0.0, max=232.0), HTML(value='')))"
      ]
     },
     "metadata": {},
     "output_type": "display_data"
    },
    {
     "name": "stdout",
     "output_type": "stream",
     "text": [
      "\n",
      "Epoch: 12/20  | Training accuracy: 0.4858903556034483  | Training Loss: 1.3074846267700195\n"
     ]
    },
    {
     "data": {
      "application/vnd.jupyter.widget-view+json": {
       "model_id": "b5d9a3894c4c496da9019c60990c056f",
       "version_major": 2,
       "version_minor": 0
      },
      "text/plain": [
       "HBox(children=(FloatProgress(value=0.0, max=114.0), HTML(value='')))"
      ]
     },
     "metadata": {},
     "output_type": "display_data"
    },
    {
     "name": "stdout",
     "output_type": "stream",
     "text": [
      "\n",
      "Test accuracy: 0.4172834429824561\n"
     ]
    },
    {
     "data": {
      "application/vnd.jupyter.widget-view+json": {
       "model_id": "6dea9ab3cab947e5a48782f4337fa800",
       "version_major": 2,
       "version_minor": 0
      },
      "text/plain": [
       "HBox(children=(FloatProgress(value=0.0, max=232.0), HTML(value='')))"
      ]
     },
     "metadata": {},
     "output_type": "display_data"
    },
    {
     "name": "stdout",
     "output_type": "stream",
     "text": [
      "\n",
      "Epoch: 13/20  | Training accuracy: 0.4956896551724138  | Training Loss: 1.2860593795776367\n"
     ]
    },
    {
     "data": {
      "application/vnd.jupyter.widget-view+json": {
       "model_id": "ddd82deb62da4033ac9ca29ef8cf1e1b",
       "version_major": 2,
       "version_minor": 0
      },
      "text/plain": [
       "HBox(children=(FloatProgress(value=0.0, max=114.0), HTML(value='')))"
      ]
     },
     "metadata": {},
     "output_type": "display_data"
    },
    {
     "name": "stdout",
     "output_type": "stream",
     "text": [
      "\n",
      "Test accuracy: 0.4283168859649123\n"
     ]
    },
    {
     "data": {
      "application/vnd.jupyter.widget-view+json": {
       "model_id": "60a91495f1fd4a9891ff2762ac67b52b",
       "version_major": 2,
       "version_minor": 0
      },
      "text/plain": [
       "HBox(children=(FloatProgress(value=0.0, max=232.0), HTML(value='')))"
      ]
     },
     "metadata": {},
     "output_type": "display_data"
    },
    {
     "name": "stdout",
     "output_type": "stream",
     "text": [
      "\n",
      "Epoch: 14/20  | Training accuracy: 0.5104054418103449  | Training Loss: 1.2557530403137207\n"
     ]
    },
    {
     "data": {
      "application/vnd.jupyter.widget-view+json": {
       "model_id": "1bc7cf63d7c9435e820d94d1ff01ecb8",
       "version_major": 2,
       "version_minor": 0
      },
      "text/plain": [
       "HBox(children=(FloatProgress(value=0.0, max=114.0), HTML(value='')))"
      ]
     },
     "metadata": {},
     "output_type": "display_data"
    },
    {
     "name": "stdout",
     "output_type": "stream",
     "text": [
      "\n",
      "Test accuracy: 0.43188048245614036\n"
     ]
    },
    {
     "data": {
      "application/vnd.jupyter.widget-view+json": {
       "model_id": "5a936132f6a54f2485ccbe54979419b3",
       "version_major": 2,
       "version_minor": 0
      },
      "text/plain": [
       "HBox(children=(FloatProgress(value=0.0, max=232.0), HTML(value='')))"
      ]
     },
     "metadata": {},
     "output_type": "display_data"
    },
    {
     "name": "stdout",
     "output_type": "stream",
     "text": [
      "\n",
      "Epoch: 15/20  | Training accuracy: 0.5284886853448276  | Training Loss: 1.2212318181991577\n"
     ]
    },
    {
     "data": {
      "application/vnd.jupyter.widget-view+json": {
       "model_id": "6ed67c6427bb4010b79a943a5f6e095d",
       "version_major": 2,
       "version_minor": 0
      },
      "text/plain": [
       "HBox(children=(FloatProgress(value=0.0, max=114.0), HTML(value='')))"
      ]
     },
     "metadata": {},
     "output_type": "display_data"
    },
    {
     "name": "stdout",
     "output_type": "stream",
     "text": [
      "\n",
      "Test accuracy: 0.4310581140350877\n"
     ]
    },
    {
     "data": {
      "application/vnd.jupyter.widget-view+json": {
       "model_id": "67dcb167eaf54a278e4201355336cdc9",
       "version_major": 2,
       "version_minor": 0
      },
      "text/plain": [
       "HBox(children=(FloatProgress(value=0.0, max=232.0), HTML(value='')))"
      ]
     },
     "metadata": {},
     "output_type": "display_data"
    },
    {
     "name": "stdout",
     "output_type": "stream",
     "text": [
      "\n",
      "Epoch: 16/20  | Training accuracy: 0.5443830818965517  | Training Loss: 1.1848726272583008\n"
     ]
    },
    {
     "data": {
      "application/vnd.jupyter.widget-view+json": {
       "model_id": "7924cca7572048679ef6d1ff7681327e",
       "version_major": 2,
       "version_minor": 0
      },
      "text/plain": [
       "HBox(children=(FloatProgress(value=0.0, max=114.0), HTML(value='')))"
      ]
     },
     "metadata": {},
     "output_type": "display_data"
    },
    {
     "name": "stdout",
     "output_type": "stream",
     "text": [
      "\n",
      "Test accuracy: 0.42667214912280704\n"
     ]
    },
    {
     "data": {
      "application/vnd.jupyter.widget-view+json": {
       "model_id": "0cebf3481e1e40968c85d57205e2196d",
       "version_major": 2,
       "version_minor": 0
      },
      "text/plain": [
       "HBox(children=(FloatProgress(value=0.0, max=232.0), HTML(value='')))"
      ]
     },
     "metadata": {},
     "output_type": "display_data"
    },
    {
     "name": "stdout",
     "output_type": "stream",
     "text": [
      "\n",
      "Epoch: 17/20  | Training accuracy: 0.5600417564655172  | Training Loss: 1.1570944786071777\n"
     ]
    },
    {
     "data": {
      "application/vnd.jupyter.widget-view+json": {
       "model_id": "4f0c837fe2e84bf3b81630a7e78f86bf",
       "version_major": 2,
       "version_minor": 0
      },
      "text/plain": [
       "HBox(children=(FloatProgress(value=0.0, max=114.0), HTML(value='')))"
      ]
     },
     "metadata": {},
     "output_type": "display_data"
    },
    {
     "name": "stdout",
     "output_type": "stream",
     "text": [
      "\n",
      "Test accuracy: 0.4292077850877193\n"
     ]
    },
    {
     "data": {
      "application/vnd.jupyter.widget-view+json": {
       "model_id": "c8649601b3b2450887df9048a77992b0",
       "version_major": 2,
       "version_minor": 0
      },
      "text/plain": [
       "HBox(children=(FloatProgress(value=0.0, max=232.0), HTML(value='')))"
      ]
     },
     "metadata": {},
     "output_type": "display_data"
    },
    {
     "name": "stdout",
     "output_type": "stream",
     "text": [
      "\n",
      "Epoch: 18/20  | Training accuracy: 0.5689991918103449  | Training Loss: 1.129606008529663\n"
     ]
    },
    {
     "data": {
      "application/vnd.jupyter.widget-view+json": {
       "model_id": "e418392161164835b36e08fe24080aac",
       "version_major": 2,
       "version_minor": 0
      },
      "text/plain": [
       "HBox(children=(FloatProgress(value=0.0, max=114.0), HTML(value='')))"
      ]
     },
     "metadata": {},
     "output_type": "display_data"
    },
    {
     "name": "stdout",
     "output_type": "stream",
     "text": [
      "\n",
      "Test accuracy: 0.43530701754385964\n"
     ]
    },
    {
     "data": {
      "application/vnd.jupyter.widget-view+json": {
       "model_id": "09284720358e48a09e167ebf7078a3a7",
       "version_major": 2,
       "version_minor": 0
      },
      "text/plain": [
       "HBox(children=(FloatProgress(value=0.0, max=232.0), HTML(value='')))"
      ]
     },
     "metadata": {},
     "output_type": "display_data"
    },
    {
     "name": "stdout",
     "output_type": "stream",
     "text": [
      "\n",
      "Epoch: 19/20  | Training accuracy: 0.5787984913793104  | Training Loss: 1.1136999130249023\n"
     ]
    },
    {
     "data": {
      "application/vnd.jupyter.widget-view+json": {
       "model_id": "b9c80461cf0d47bb8b74e1572389c5e7",
       "version_major": 2,
       "version_minor": 0
      },
      "text/plain": [
       "HBox(children=(FloatProgress(value=0.0, max=114.0), HTML(value='')))"
      ]
     },
     "metadata": {},
     "output_type": "display_data"
    },
    {
     "name": "stdout",
     "output_type": "stream",
     "text": [
      "\n",
      "Test accuracy: 0.43277138157894735\n"
     ]
    },
    {
     "data": {
      "application/vnd.jupyter.widget-view+json": {
       "model_id": "a75efdb35e1d4c8ea1f8268f85b754a2",
       "version_major": 2,
       "version_minor": 0
      },
      "text/plain": [
       "HBox(children=(FloatProgress(value=0.0, max=232.0), HTML(value='')))"
      ]
     },
     "metadata": {},
     "output_type": "display_data"
    },
    {
     "name": "stdout",
     "output_type": "stream",
     "text": [
      "\n",
      "Epoch: 20/20  | Training accuracy: 0.5836813038793104  | Training Loss: 1.1008111238479614\n"
     ]
    },
    {
     "data": {
      "application/vnd.jupyter.widget-view+json": {
       "model_id": "070ea6d6c763464dba46076fadaf6555",
       "version_major": 2,
       "version_minor": 0
      },
      "text/plain": [
       "HBox(children=(FloatProgress(value=0.0, max=114.0), HTML(value='')))"
      ]
     },
     "metadata": {},
     "output_type": "display_data"
    },
    {
     "name": "stdout",
     "output_type": "stream",
     "text": [
      "\n",
      "Test accuracy: 0.4296875\n"
     ]
    },
    {
     "data": {
      "image/png": "[encoded data removed]",
      "text/plain": [
       "<Figure size 432x288 with 1 Axes>"
      ]
     },
     "metadata": {
      "needs_background": "light"
     },
     "output_type": "display_data"
    }
   ],
   "source": [
    "train(modell, epochs, dropout_probs, batch_size, data, 'saver')"
   ]
  },
  {
   "cell_type": "code",
   "execution_count": null,
   "metadata": {},
   "outputs": [],
   "source": []
  }
 ],
 "metadata": {
  "kernelspec": {
   "display_name": "Python 3",
   "language": "python",
   "name": "python3"
  },
  "language_info": {
   "codemirror_mode": {
    "name": "ipython",
    "version": 3
   },
   "file_extension": ".py",
   "mimetype": "text/x-python",
   "name": "python",
   "nbconvert_exporter": "python",
   "pygments_lexer": "ipython3",
   "version": "3.5.3"
  }
 },
 "nbformat": 4,
 "nbformat_minor": 4
}
